{
 "cells": [
  {
   "cell_type": "markdown",
   "metadata": {},
   "source": [
    "# Python Basics - Assingment 2 ToDo"
   ]
  },
  {
   "cell_type": "markdown",
   "metadata": {},
   "source": [
    "**Task 1.** How to print a list in reverse order (from last to first item) using for in loops. Operating System List\n",
    "```\n",
    "systems = ['Windows', 'macOS', 'Linux']\n",
    "```"
   ]
  },
  {
   "cell_type": "code",
   "execution_count": 1,
   "metadata": {},
   "outputs": [
    {
     "name": "stdout",
     "output_type": "stream",
     "text": [
      "Linux\n",
      "macOS\n",
      "Windows\n"
     ]
    }
   ],
   "source": [
    "systems = ['Windows', 'macOS', 'Linux']\n",
    "for i in range( len(systems) - 1, -1, -1):\n",
    "    print(systems[i])"
   ]
  },
  {
   "cell_type": "markdown",
   "metadata": {},
   "source": [
    "### Example solutions task 1.\n",
    "\n",
    "<details><summary>CLICK ME</summary>\n",
    "<p>\n",
    "\n",
    "```\n",
    "# Operating System List\n",
    "systems = ['Windows', 'macOS', 'Linux']\n",
    "\n",
    "# Printing Elements in Reversed Order\n",
    "for o in reversed(systems):\n",
    "    print(o)\n",
    "```\n",
    "\n",
    "</p>\n",
    "</details>"
   ]
  },
  {
   "cell_type": "markdown",
   "metadata": {},
   "source": [
    "---\n",
    "**Task 2** Use reverse() method and print list before and after reverse operation.\n",
    "```\n",
    "systems = ['Windows', 'macOS', 'Linux']\n",
    "```"
   ]
  },
  {
   "cell_type": "code",
   "execution_count": 3,
   "metadata": {},
   "outputs": [
    {
     "name": "stdout",
     "output_type": "stream",
     "text": [
      "['Linux', 'macOS', 'Windows']\n"
     ]
    }
   ],
   "source": [
    "systems = ['Windows', 'macOS', 'Linux']\n",
    "systems.reverse()\n",
    "print(systems)"
   ]
  },
  {
   "cell_type": "markdown",
   "metadata": {},
   "source": [
    "### Example solutions task 2.\n",
    "\n",
    "<details><summary>CLICK ME</summary>\n",
    "<p>\n",
    "\n",
    "```\n",
    "# Operating System List\n",
    "systems = ['Windows', 'macOS', 'Linux']\n",
    "print('Original List:', systems)\n",
    "\n",
    "# Reverse Order\n",
    "systems.reverse()\n",
    "\n",
    "# updated list\n",
    "print('Updated List:', systems)\n",
    "    \n",
    "```\n",
    "\n",
    "</p>\n",
    "</details>"
   ]
  },
  {
   "cell_type": "markdown",
   "metadata": {},
   "source": [
    "---\n",
    "**Task 3.** The program takes a list and **swaps the first and last value of the list.**\n",
    "\n",
    "1. User must enter the number of elements in the list and store it in a variable.\n",
    "2. User must enter the values of elements into the list.\n",
    "3. The append function obtains each element from the user and adds the same to the end of the list as many times as the number of elements taken.\n",
    "4. A temporary variable is used to swap the **first and last element in the list.**\n",
    "```\n",
    "temp=list[0]\n",
    "list[0]=list[number-1]\n",
    "list[number-1]=temp\n",
    "```\n",
    "5. The newly formed list is printed.\n"
   ]
  },
  {
   "cell_type": "code",
   "execution_count": 4,
   "metadata": {},
   "outputs": [
    {
     "name": "stdin",
     "output_type": "stream",
     "text": [
      "How many numbers:  6\n",
      "element of the array:  A\n",
      "element of the array:  B\n",
      "element of the array:  C\n",
      "element of the array:  D\n",
      "element of the array:  E\n",
      "element of the array:  F\n"
     ]
    },
    {
     "name": "stdout",
     "output_type": "stream",
     "text": [
      "['A', 'B', 'C', 'D', 'E', 'F']\n",
      "['F', 'B', 'C', 'D', 'E', 'A']\n"
     ]
    }
   ],
   "source": [
    "num = int(input('How many numbers: '))\n",
    "given_list = []\n",
    "for i in range(0, num):\n",
    "  ele = input('element of the array: ')\n",
    "  given_list.append(ele)\n",
    "\n",
    "print(given_list)\n",
    "\n",
    "swap1 = given_list[num-1]\n",
    "swap2 = given_list[0]\n",
    "given_list[0] = swap1\n",
    "given_list[num-1]= swap2\n",
    "print(given_list)"
   ]
  },
  {
   "cell_type": "markdown",
   "metadata": {},
   "source": [
    "### Example solutions task 3.\n",
    "\n",
    "<details><summary>CLICK ME</summary>\n",
    "<p>\n",
    "\n",
    "```\n",
    "list=[]\n",
    "number= int(input(\"Enter the number of elements in list:\"))\n",
    "for x in range(0,number):\n",
    "    element=int(input(\"Enter element\" + str(x+1) + \":\"))\n",
    "    list.append(element)\n",
    "temp=list[0]\n",
    "list[0]=list[number-1]\n",
    "list[number-1]=temp\n",
    "print(\"New list is:\")\n",
    "print(list)\n",
    "```\n",
    "\n",
    "</p>\n",
    "</details>"
   ]
  },
  {
   "cell_type": "markdown",
   "metadata": {},
   "source": [
    "---\n",
    "**Task 4** Program to Calculate the Average of Numbers in a Given List\n",
    "\n",
    "1. User must first enter the number of elements which is stored in the variable number.\n",
    "2. The value of I ranges from 0 to the number of elements and is incremented each time after the body of the loop is executed.\n",
    "3. Then, the element that the user enters is stored in the variable elem.\n",
    "4. list.append(elem) appends the element to the list.\n",
    "5. Now the value of i is incremented to 2.\n",
    "6. The new value entered by the user for the next loop iteration is now stored in elem which is appended to the list.\n",
    "7. The loop runs till the value of i reaches number.\n",
    "8. sum(list) gives the total sum of all the elements in the list and dividing it by the total number of elements gives the average of elements in the list.\n",
    "9. round(avg,2) rounds the average upto 2 decimal places.\n",
    "10. Then the average is printed after rounding.\n"
   ]
  },
  {
   "cell_type": "code",
   "execution_count": 5,
   "metadata": {},
   "outputs": [
    {
     "name": "stdin",
     "output_type": "stream",
     "text": [
      "How many numbers:  5\n",
      "element of the array:  1\n",
      "element of the array:  2\n",
      "element of the array:  3\n",
      "element of the array:  4\n",
      "element of the array:  5\n"
     ]
    },
    {
     "name": "stdout",
     "output_type": "stream",
     "text": [
      "[1, 2, 3, 4, 5]\n",
      "Average is:  3.0\n"
     ]
    }
   ],
   "source": [
    "num = int(input('How many numbers: '))\n",
    "given_list = []\n",
    "for i in range(0, num):\n",
    "  ele = int(input('element of the array: '))\n",
    "  given_list.append(ele)\n",
    "\n",
    "print(given_list)\n",
    "sum_list = sum(given_list)\n",
    "print('Average is: ', sum_list/ num)"
   ]
  },
  {
   "cell_type": "markdown",
   "metadata": {},
   "source": [
    "### Example solutions task 4.\n",
    "\n",
    "<details><summary>CLICK ME</summary>\n",
    "<p>\n",
    "\n",
    "```\n",
    "number=int(input(\"Enter the number of elements to be inserted: \"))\n",
    "list=[]\n",
    "for i in range(0,number):\n",
    "    elem=int(input(\"Enter element: \"))\n",
    "    list.append(elem)\n",
    "avg=sum(list)/number\n",
    "print(\"Average of elements in the list\",round(avg,2))\n",
    "```\n",
    "\n",
    "</p>\n",
    "</details>"
   ]
  },
  {
   "cell_type": "markdown",
   "metadata": {},
   "source": [
    "---\n",
    "**Task 5** 4-Calculator program using Python\n",
    "\n",
    "Create a simple calculator which can perform basic arithmetic operations like addition, subtraction, multiplication or division depending upon the user input.\n",
    "\n",
    "## Approach:\n",
    "User choose the desired operation. Options 1, 2, 3 and 4 are valid.\n",
    "```\n",
    "# Take input from the user  \n",
    "select = int(input(\"Select operations form 1, 2, 3, 4 :\")) \n",
    "  \n",
    "number_1 = int(input(\"Enter first number: \")) \n",
    "number_2 = int(input(\"Enter second number: \")) \n",
    "```\n",
    "Two numbers are taken and an if…elif…else branching is used to execute a particular section.\n",
    "```\n",
    "if select == 1: \n",
    "    print(number_1, \"+\", number_2, \"=\", \n",
    "                    add(number_1, number_2)) \n",
    "```\n",
    "Using functions add(), subtract(), multiply() and divide() evaluate respective operations."
   ]
  },
  {
   "cell_type": "code",
   "execution_count": 6,
   "metadata": {},
   "outputs": [
    {
     "name": "stdin",
     "output_type": "stream",
     "text": [
      "Select operations form 1, 2, 3, 4 :  1\n",
      "Enter first number:  2\n",
      "Enter second number:  3\n"
     ]
    },
    {
     "name": "stdout",
     "output_type": "stream",
     "text": [
      "2 + 3 = 5\n"
     ]
    }
   ],
   "source": [
    "def add(num1, num2):\n",
    "  return num1+num2\n",
    "def subtract(num1, num2):\n",
    "  return num1-num2\n",
    "def multiply(num1, num2):\n",
    "  return num1 * num2\n",
    "def divide(num1, num2):\n",
    "  return num1 / num2\n",
    "\n",
    "# Take input from the user  \n",
    "select = int(input(\"Select operations form 1, 2, 3, 4 : \"))\n",
    "number_1 = int(input(\"Enter first number: \")) \n",
    "number_2 = int(input(\"Enter second number: \")) \n",
    "if select == 1:\n",
    "  print(number_1, \"+\", number_2, \"=\", add(number_1, number_2))\n",
    "elif select == 2:\n",
    "  print(number_1, \"-\", number_2, \"=\", subtract(number_1, number_2))\n",
    "elif select == 3:\n",
    "  print(number_1, \"*\", number_2, \"=\", multiply(number_1, number_2))\n",
    "elif select == 4:\n",
    "  print(number_1, \"/\", number_2, \"=\", divide(number_1, number_2))\n",
    "else:\n",
    "  print(\"Please choose from 1,2,3,4\")"
   ]
  },
  {
   "cell_type": "markdown",
   "metadata": {},
   "source": [
    "### Example solutions task 5.\n",
    "\n",
    "<details><summary>CLICK ME</summary>\n",
    "<p>\n",
    "\n",
    "```\n",
    "# Function to add two numbers  \n",
    "def add(num1, num2): \n",
    "    return num1 + num2 \n",
    "  \n",
    "# Function to subtract two numbers  \n",
    "def subtract(num1, num2): \n",
    "    return num1 - num2 \n",
    "  \n",
    "# Function to multiply two numbers \n",
    "def multiply(num1, num2): \n",
    "    return num1 * num2 \n",
    "  \n",
    "# Function to divide two numbers \n",
    "def divide(num1, num2): \n",
    "    return num1 / num2 \n",
    "  \n",
    "print(\"Please select operation -\\n\" \\ \n",
    "        \"1. Add\\n\" \\ \n",
    "        \"2. Subtract\\n\" \\ \n",
    "        \"3. Multiply\\n\" \\ \n",
    "        \"4. Divide\\n\") \n",
    "  \n",
    "  \n",
    "# Take input from the user  \n",
    "select = int(input(\"Select operations form 1, 2, 3, 4 :\")) \n",
    "  \n",
    "number_1 = int(input(\"Enter first number: \")) \n",
    "number_2 = int(input(\"Enter second number: \")) \n",
    "  \n",
    "if select == 1: \n",
    "    print(number_1, \"+\", number_2, \"=\", \n",
    "                    add(number_1, number_2)) \n",
    "  \n",
    "elif select == 2: \n",
    "    print(number_1, \"-\", number_2, \"=\", \n",
    "                    subtract(number_1, number_2)) \n",
    "  \n",
    "elif select == 3: \n",
    "    print(number_1, \"*\", number_2, \"=\", \n",
    "                    multiply(number_1, number_2)) \n",
    "  \n",
    "elif select == 4: \n",
    "    print(number_1, \"/\", number_2, \"=\", \n",
    "                    divide(number_1, number_2)) \n",
    "else: \n",
    "    print(\"Invalid input\") \n",
    "```\n",
    "\n",
    "</p>\n",
    "</details>"
   ]
  },
  {
   "cell_type": "code",
   "execution_count": null,
   "metadata": {},
   "outputs": [],
   "source": []
  }
 ],
 "metadata": {
  "kernelspec": {
   "display_name": "Python 3",
   "language": "python",
   "name": "python3"
  },
  "language_info": {
   "codemirror_mode": {
    "name": "ipython",
    "version": 3
   },
   "file_extension": ".py",
   "mimetype": "text/x-python",
   "name": "python",
   "nbconvert_exporter": "python",
   "pygments_lexer": "ipython3",
   "version": "3.8.8"
  }
 },
 "nbformat": 4,
 "nbformat_minor": 4
}
