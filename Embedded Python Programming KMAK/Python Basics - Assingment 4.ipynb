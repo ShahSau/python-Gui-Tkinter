{
 "cells": [
  {
   "cell_type": "markdown",
   "metadata": {},
   "source": [
    "# Python Basics - Assingment  4\n",
    "                            "
   ]
  },
  {
   "cell_type": "markdown",
   "metadata": {},
   "source": [
    "Task 1: Create a string (name), an integer (num) and a floating point number (fnum). Assign your name to name, 25 to num and 56.78 to fnum. Print the output for all 3 variables. "
   ]
  },
  {
   "cell_type": "code",
   "execution_count": 1,
   "metadata": {},
   "outputs": [
    {
     "name": "stdout",
     "output_type": "stream",
     "text": [
      "Shahriar\n",
      "25\n",
      "56.78\n"
     ]
    }
   ],
   "source": [
    "#name\n",
    "#num\n",
    "#fnum\n",
    "#print name\n",
    "#print num\n",
    "#print fnum\n",
    "\n",
    "name= 'Shahriar'\n",
    "num = 25\n",
    "fnum = 56.78\n",
    "print(name)\n",
    "print(num)\n",
    "print(fnum)\n",
    "\n",
    "\n"
   ]
  },
  {
   "cell_type": "markdown",
   "metadata": {},
   "source": [
    "Task 2: Use the capitalize() method to convert the first character of a string to uppercase letter. "
   ]
  },
  {
   "cell_type": "code",
   "execution_count": 6,
   "metadata": {},
   "outputs": [
    {
     "name": "stdout",
     "output_type": "stream",
     "text": [
      "This is getting interesting.\n"
     ]
    }
   ],
   "source": [
    "mystring = \"this is getting interesting.\"\n",
    "mycaptial_string = mystring.capitalize()\n",
    "\n",
    "print(mycaptial_string)\n",
    "\n",
    "\n"
   ]
  },
  {
   "cell_type": "markdown",
   "metadata": {},
   "source": [
    "Task 3: The find() method returns the index of first occurence of the substring if it is found and if it does not find it returns -1. Use find() method to complete the code below. "
   ]
  },
  {
   "cell_type": "code",
   "execution_count": 7,
   "metadata": {},
   "outputs": [
    {
     "name": "stdout",
     "output_type": "stream",
     "text": [
      "21\n"
     ]
    }
   ],
   "source": [
    "text = \"Python is an easy to learn language\"\n",
    "result = text.find('learn')\n",
    "print (result)\n",
    "\n",
    "\n",
    "\n"
   ]
  },
  {
   "cell_type": "markdown",
   "metadata": {},
   "source": [
    "Task 4: It is possible to assign the same value to multiple variables at once in Python. Complete the code below. "
   ]
  },
  {
   "cell_type": "code",
   "execution_count": 8,
   "metadata": {},
   "outputs": [
    {
     "name": "stdout",
     "output_type": "stream",
     "text": [
      "1\n",
      "1\n",
      "1\n"
     ]
    }
   ],
   "source": [
    "# create 3 variables a,b & c & \n",
    "# assign 1 as value to all variables in the same statement\n",
    "# incorrect answer if it a=1 b=1 c=1  \n",
    "\n",
    "#print a\n",
    "#print b\n",
    "#print c\n",
    "a = b = c= 1\n",
    "print(a)\n",
    "print (b)\n",
    "print (c)"
   ]
  },
  {
   "cell_type": "markdown",
   "metadata": {},
   "source": [
    "Task 5: Complete tasks as in the comment below "
   ]
  },
  {
   "cell_type": "code",
   "execution_count": 26,
   "metadata": {},
   "outputs": [
    {
     "name": "stdout",
     "output_type": "stream",
     "text": [
      "13\n",
      "I\n",
      "I LIKE PYTHON\n",
      "1 Niin metsä vastaa, kuin sinne huudetaan\n"
     ]
    }
   ],
   "source": [
    "a = \"I like python\"\n",
    "print(len(a)) # use the len method to print the length of the string\n",
    "print(a[0]) # print the first character of the string\n",
    "print(a.upper()) # print the string in uppercase letters \n",
    "newtext = \"%.. Niin %... vastaa, %.. sinne huudetaan\" \n",
    "# it should print 1 Niin metsä vastaa, kuin sinne huudetaan\n",
    "newtext2=newtext.replace(\"%...\",\"metsä\")\n",
    "newtext2=newtext2.replace(\"%..\",\"kuin\")\n",
    "arr = newtext2.split(' ')\n",
    "arr[0] = \"1\"\n",
    "newtext= ' '.join(map(str, arr)) \n",
    "print(newtext) # print the newtext "
   ]
  },
  {
   "cell_type": "markdown",
   "metadata": {},
   "source": [
    "Task 6: Create a list named mylist and include 5 different data items. (4 points)"
   ]
  },
  {
   "cell_type": "code",
   "execution_count": 33,
   "metadata": {},
   "outputs": [
    {
     "name": "stdout",
     "output_type": "stream",
     "text": [
      "['Apple', 2, 3.1415, 'd', 1024]\n",
      "2\n",
      "['Apple', 2, 3.1415, 'd', 1024, 'B']\n"
     ]
    }
   ],
   "source": [
    "mylist =  ['Apple', 2, 3.1415, 'd', 1024 ] # it should contain 5 different data items\n",
    "print(mylist) # print the entire list\n",
    "print(mylist[1]) # print only the second element\n",
    "#use append to add one more item to your list \n",
    "mylist.append('B')\n",
    "print(mylist) #print the entire list"
   ]
  },
  {
   "cell_type": "markdown",
   "metadata": {},
   "source": [
    "Task 7: Tuple (3 points)"
   ]
  },
  {
   "cell_type": "code",
   "execution_count": 30,
   "metadata": {},
   "outputs": [
    {
     "name": "stdout",
     "output_type": "stream",
     "text": [
      "3\n",
      "\n",
      "Introduction to IoT & Cloud\n",
      "Python Basics for IoT\n",
      "Python Project\n",
      "\n",
      "Python Project\n"
     ]
    }
   ],
   "source": [
    "courses = (\"Introduction to IoT & Cloud\", \"Python Basics for IoT\", \"Python Project\")\n",
    "print(len(courses)) #use len method to print the number of items(courses) in the tuple courses.\n",
    "print()\n",
    "for i in courses:\n",
    "    print(i) #print all items in the tuple courses\n",
    "print() \n",
    "print(courses[2])#print the third item in the tuple"
   ]
  },
  {
   "cell_type": "markdown",
   "metadata": {},
   "source": [
    "Task 8: Dictionary (5 points)"
   ]
  },
  {
   "cell_type": "code",
   "execution_count": 27,
   "metadata": {},
   "outputs": [
    {
     "name": "stdout",
     "output_type": "stream",
     "text": [
      "Python Basics\n",
      "{'course': 'Python Basics for IoT', 'time': 'Autumn', 'ects': 5, 'year': 2020}\n",
      "{'course': 'Python Basics for IoT', 'ects': 5, 'year': 2020}\n"
     ]
    }
   ],
   "source": [
    "#create a dictionary with the key as course, time and ects\n",
    "    #values as Python Basics, Autumn, 5\n",
    "test = {\n",
    "    'course' : 'Python Basics',\n",
    "    'time': 'Autumn',\n",
    "    'ects': 5\n",
    "    \n",
    "}\n",
    "print(test.get('course'))#use get method to print the value of the course\n",
    "test['course'] = 'Python Basics for IoT' #change the course value to Python Basics for IoT\n",
    "\n",
    "test['year'] = 2020 #add the key/value pair as year:2020 to the test dictionary\n",
    "print(test) #print the entire dictionary\n",
    "#use pop method to remove time form the dictionary\n",
    "test.pop('time')\n",
    "print(test)"
   ]
  },
  {
   "cell_type": "code",
   "execution_count": null,
   "metadata": {},
   "outputs": [],
   "source": []
  }
 ],
 "metadata": {
  "kernelspec": {
   "display_name": "Python 3",
   "language": "python",
   "name": "python3"
  },
  "language_info": {
   "codemirror_mode": {
    "name": "ipython",
    "version": 3
   },
   "file_extension": ".py",
   "mimetype": "text/x-python",
   "name": "python",
   "nbconvert_exporter": "python",
   "pygments_lexer": "ipython3",
   "version": "3.8.8"
  }
 },
 "nbformat": 4,
 "nbformat_minor": 4
}
