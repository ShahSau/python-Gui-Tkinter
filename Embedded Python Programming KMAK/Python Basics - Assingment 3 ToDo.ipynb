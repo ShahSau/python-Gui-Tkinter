{
 "cells": [
  {
   "cell_type": "markdown",
   "metadata": {},
   "source": [
    "---\n",
    "# Python Basics - Assingment 3 ToDo\n",
    "\n",
    "---\n",
    "**Exercise 1**\n",
    "\n",
    "**Task 1** Define a function called **repeat_stuff** that takes in two inputs, **stuff**, and **num_repeats**.\n",
    "\n",
    "We will want to make this function print a string with stuff repeated num_repeats amount of times. For now, only put an empty print statement inside the function.\n"
   ]
  },
  {
   "cell_type": "code",
   "execution_count": 1,
   "metadata": {},
   "outputs": [],
   "source": [
    "def repeat_stuff(stuff, num_repeats):\n",
    "    print(\"\")"
   ]
  },
  {
   "cell_type": "markdown",
   "metadata": {},
   "source": [
    "### Example solutions task 1.\n",
    "\n",
    "<details><summary>CLICK ME</summary>\n",
    "<p>\n",
    "\n",
    "```\n",
    "def repeat_stuff(stuff, num_repeats):\n",
    "  print()\n",
    "```\n",
    "\n",
    "</p>\n",
    "</details>"
   ]
  },
  {
   "cell_type": "markdown",
   "metadata": {},
   "source": [
    "---\n",
    "**Task 2** Outside of the function, call repeat_stuff.\n",
    "\n",
    "You can use the value \"Row \" for stuff and 3 for num_repeats. \n",
    "Change the print statement inside repeat_stuff to a **return** statement instead. It should **return stuff*num_repeats**\n",
    "Note: Multiplying a string just makes a new string with the old one repeated! For example: \"na*6 -> result is nanananana\n",
    "Then, give the parameter **num_repeats** a default value of **10**."
   ]
  },
  {
   "cell_type": "code",
   "execution_count": 4,
   "metadata": {},
   "outputs": [
    {
     "data": {
      "text/plain": [
       "'nananananananananana'"
      ]
     },
     "execution_count": 4,
     "metadata": {},
     "output_type": "execute_result"
    }
   ],
   "source": [
    "def repeat_stuff(stuff, num_repeats):\n",
    "    return stuff*num_repeats\n",
    "repeat_stuff('na', 10)"
   ]
  },
  {
   "cell_type": "markdown",
   "metadata": {},
   "source": [
    "\n",
    "### Example solutions task 2.\n",
    "\n",
    "<details><summary>CLICK ME</summary>\n",
    "<p>\n",
    "\n",
    "```\n",
    "def repeat_stuff(stuff, num_repeats=10):\n",
    "  return stuff*num_repeats\n",
    "\n",
    "repeat_stuff(\"Row \", 3) \n",
    "\n",
    "```\n",
    "\n",
    "</p>\n",
    "</details>"
   ]
  },
  {
   "cell_type": "markdown",
   "metadata": {},
   "source": [
    "---\n",
    "**Task 3** Add **repeat_stuff(\"Row \", 3)** and the string **\"Your Boat. \" ** together and save the result to a variable called **lyrics**.\n",
    "\n",
    "Create a variable called **song **and assign it the value of **repeat_stuff** called with the singular input **lyrics**.\n",
    "\n",
    "Print song.\n",
    "\n",
    "Good job!!"
   ]
  },
  {
   "cell_type": "code",
   "execution_count": 5,
   "metadata": {},
   "outputs": [
    {
     "name": "stdout",
     "output_type": "stream",
     "text": [
      "Row Row Row Your Boat. \n"
     ]
    }
   ],
   "source": [
    "lyrics = repeat_stuff(\"Row \", 3)+ \"Your Boat. \"\n",
    "song = repeat_stuff(lyrics, 1)\n",
    "print(song)"
   ]
  },
  {
   "cell_type": "markdown",
   "metadata": {},
   "source": [
    "### Example solutions task 3.\n",
    "\n",
    "<details><summary>CLICK ME</summary>\n",
    "<p>\n",
    "\n",
    "```\n",
    "def repeat_stuff(stuff, num_repeats=10):\n",
    "  return stuff*num_repeats\n",
    "\n",
    "lyrics = repeat_stuff(\"Row \", 3) + \"Your Boat. \"\n",
    "song = repeat_stuff(lyrics)\n",
    "\n",
    "print(song)\n",
    "\n",
    "```\n",
    "\n",
    "</p>\n",
    "</details>"
   ]
  },
  {
   "cell_type": "markdown",
   "metadata": {},
   "source": [
    "---\n",
    "**Exercise 2**\n",
    "\n",
    "The program reads the height in centimeters and then converts the height to feet and inches.\n",
    "\n",
    "Problem Solution\n",
    "\n",
    "1. Take the height in centimeters and store it in a variable.\n",
    "2. Convert the height in centimeters into inches and feet.\n",
    "3. Print the length in inches and feet.\n",
    "4. Exit.\n",
    "\n",
    "Hint! \n",
    "inches=0.394*cm\n",
    "feet=0.0328*cm"
   ]
  },
  {
   "cell_type": "code",
   "execution_count": 6,
   "metadata": {},
   "outputs": [
    {
     "name": "stdin",
     "output_type": "stream",
     "text": [
      "Your height in cm:  180\n"
     ]
    },
    {
     "name": "stdout",
     "output_type": "stream",
     "text": [
      "Your height in inches is:  70.92\n",
      "\n",
      "Your height in feet is :  5.9\n",
      "\n",
      "Your height in feet and inchs is : 5 feet and 10 inches\n"
     ]
    }
   ],
   "source": [
    "height_cm = float(input(\"Your height in cm: \"))\n",
    "just_feet = round(height_cm*0.0328,2)\n",
    "cm = round(height_cm* 0.394, 2)\n",
    "feet = int(cm /12)\n",
    "inch = int(cm - (feet*12))\n",
    "print(\"Your height in inches is: \", cm)\n",
    "print()\n",
    "print('Your height in feet is : ', just_feet)\n",
    "print()\n",
    "print(\"Your height in feet and inchs is : \" +str(feet)+\" feet and \"+str(inch) + \" inches\")"
   ]
  },
  {
   "cell_type": "markdown",
   "metadata": {},
   "source": [
    "### Example solutions task Exercise 2.\n",
    "\n",
    "<details><summary>CLICK ME</summary>\n",
    "<p>\n",
    "\n",
    "```\n",
    "cm=int(input(\"Enter the height in centimeters:\"))\n",
    "inches=0.394*cm\n",
    "feet=0.0328*cm\n",
    "print(\"The length in inches\",round(inches,2))\n",
    "print(\"The length in feet\",round(feet,2))\n",
    "\n",
    "```\n",
    "\n",
    "</p>\n",
    "</details>"
   ]
  },
  {
   "cell_type": "markdown",
   "metadata": {},
   "source": [
    "---\n",
    "**Exercise 3**\n",
    "\n",
    "This is a Python Program to check whether a number is positive or negative.\n",
    "\n",
    "Problem Solution\n",
    "\n",
    "1. Take the value of the integer and store in a variable.\n",
    "2. Use an if statement to determine whether the number is positive or negative.\n",
    "3. Exit."
   ]
  },
  {
   "cell_type": "code",
   "execution_count": null,
   "metadata": {},
   "outputs": [],
   "source": [
    "number = int(input('Please type a number: '))\n",
    "if number >=0:\n",
    "    print(\"Positive Number\")\n",
    "else:\n",
    "    print(\"Negative Number\")"
   ]
  },
  {
   "cell_type": "markdown",
   "metadata": {},
   "source": [
    "### Example solutions task Exercise 3.\n",
    "\n",
    "<details><summary>CLICK ME</summary>\n",
    "<p>\n",
    "\n",
    "```\n",
    "n=int(input(\"Enter number: \"))\n",
    "if(n>0):\n",
    "    print(\"Number is positive\")\n",
    "else:\n",
    "    print(\"Number is negative\")\n",
    "\n",
    "```\n",
    "\n",
    "</p>\n",
    "</details>"
   ]
  },
  {
   "cell_type": "code",
   "execution_count": null,
   "metadata": {},
   "outputs": [],
   "source": []
  }
 ],
 "metadata": {
  "kernelspec": {
   "display_name": "Python 3",
   "language": "python",
   "name": "python3"
  },
  "language_info": {
   "codemirror_mode": {
    "name": "ipython",
    "version": 3
   },
   "file_extension": ".py",
   "mimetype": "text/x-python",
   "name": "python",
   "nbconvert_exporter": "python",
   "pygments_lexer": "ipython3",
   "version": "3.8.8"
  }
 },
 "nbformat": 4,
 "nbformat_minor": 4
}
