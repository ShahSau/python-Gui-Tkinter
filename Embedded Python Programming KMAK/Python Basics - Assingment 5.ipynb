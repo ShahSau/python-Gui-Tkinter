{
 "cells": [
  {
   "cell_type": "markdown",
   "metadata": {},
   "source": [
    "# Exercise 5\n",
    "\n",
    "**Task 1. Write a program that prompts students to provide their total points (0 -100) and check with the following conditions:**\n",
    "\n",
    "- if total point is greater than or equal to 85 then the grade is 5\n",
    "- if total point is greater than or equal to 75 then the grade is 4\n",
    "- if total point is greater than or equal to 65 then the grade is 3\n",
    "- if total point is greater than or equal to 55 then the grade is 2\n",
    "- if total point is greater than or equal to 45 then the grade is 1\n",
    "- if total point is less than 45 then the grade is 0\n",
    "\n",
    "(Use IF statement)\n"
   ]
  },
  {
   "cell_type": "code",
   "execution_count": 27,
   "metadata": {},
   "outputs": [
    {
     "name": "stdin",
     "output_type": "stream",
     "text": [
      "Type your total points:  55\n"
     ]
    },
    {
     "name": "stdout",
     "output_type": "stream",
     "text": [
      "grade is 2\n"
     ]
    }
   ],
   "source": [
    "num = int(input(\"Type your total points: \"))\n",
    "if num >= 85:\n",
    "    print(\"grade is 5\")\n",
    "elif num<85 and num >= 75:\n",
    "    print(\"grade is 4\")\n",
    "elif num<75 and num >= 65:\n",
    "    print(\"grade is 3\")\n",
    "elif num<65 and num >= 55:\n",
    "    print(\"grade is 2\")\n",
    "elif num<55 and num >= 45:\n",
    "    print(\"grade is 1\")\n",
    "else:\n",
    "    print(\"grade is 0\")"
   ]
  },
  {
   "cell_type": "markdown",
   "metadata": {},
   "source": [
    "### Example solutions Task 1.\n",
    "\n",
    "<details><summary>CLICK ME</summary>\n",
    "<p>\n",
    "\n",
    "```\n",
    "#ask user to input point (Hint: use int() to cast the input to integer)\n",
    "# write conditions to check and output the grade based on point \n",
    "\n",
    "\n",
    "# Example\n",
    "points = int(input(\"Points:\"))\n",
    "if points >= 85:\n",
    "    print (\"Grade: 5\")\n",
    "elif points >= 75:\n",
    "    print (\"Grade: 4\")\n",
    "elif points >= 65:\n",
    "    print (\"Grade: 3\")\n",
    "elif points >= 55:\n",
    "    print (\"Grade: 2\")\n",
    "elif points >= 45:\n",
    "    print (\"Grade: 1\")\n",
    "else:\n",
    "    print (\"Grade: 0\")\n",
    "```\n",
    "\n",
    "</p>\n",
    "</details>\n"
   ]
  },
  {
   "cell_type": "markdown",
   "metadata": {},
   "source": [
    "---\n",
    "**Task 2. Write a  program that asks user to input a number and create the multiplication table (from 1 to 10) of a number (Use For). The output should be as below for an inputted number:**\n",
    "\n",
    "```\n",
    "5 * 1 = 5\n",
    "5 * 2 = 10\n",
    "...\n",
    "...\n",
    "...\n",
    "5 * 10 = 50\n",
    "```"
   ]
  },
  {
   "cell_type": "code",
   "execution_count": 6,
   "metadata": {},
   "outputs": [
    {
     "name": "stdin",
     "output_type": "stream",
     "text": [
      "Type a number from 1 to 10 5\n"
     ]
    },
    {
     "name": "stdout",
     "output_type": "stream",
     "text": [
      "5 * 0 = 0\n",
      "5 * 1 = 5\n",
      "5 * 2 = 10\n",
      "5 * 3 = 15\n",
      "5 * 4 = 20\n",
      "5 * 5 = 25\n",
      "5 * 6 = 30\n",
      "5 * 7 = 35\n",
      "5 * 8 = 40\n",
      "5 * 9 = 45\n",
      "5 * 10 = 50\n"
     ]
    }
   ],
   "source": [
    "num = int(input(\"Type a number from 1 to 10\"))\n",
    "for i in range(0,11):\n",
    "    print(str(num)+\" * \"+str(i)+\" = \" +str(num * i))"
   ]
  },
  {
   "cell_type": "markdown",
   "metadata": {},
   "source": [
    "### Example solutions Task 2.\n",
    "\n",
    "<details><summary>CLICK ME</summary>\n",
    "<p>\n",
    "\n",
    "```\n",
    "# Example\n",
    "num = int(input(\"Enter a number:\"))\n",
    "for i in range(1, 11):\n",
    "    print (str(num) + \" * \" + str(i) + \" = \" + str(num * i))\n",
    "```\n",
    "\n",
    "</p>\n",
    "</details>\n"
   ]
  },
  {
   "cell_type": "markdown",
   "metadata": {},
   "source": [
    "---\n",
    "**Task 3. Write a program using Numpy to generate and print 5 random number between 0 & 1.**"
   ]
  },
  {
   "cell_type": "code",
   "execution_count": 26,
   "metadata": {},
   "outputs": [
    {
     "name": "stdout",
     "output_type": "stream",
     "text": [
      "0\n"
     ]
    }
   ],
   "source": [
    "from numpy import random\n",
    "i= random.randint(2)\n",
    "print(i)"
   ]
  },
  {
   "cell_type": "markdown",
   "metadata": {},
   "source": [
    "### Example solutions Task 3.\n",
    "\n",
    "<details><summary>CLICK ME</summary>\n",
    "<p>\n",
    "\n",
    "```\n",
    " # print the 5 random numbers\n",
    "\n",
    "# Example\n",
    "import numpy as np\n",
    "\n",
    "for i in range(5):\n",
    "    print (np.random.random())\n",
    "    \n",
    "```\n",
    "\n",
    "</p>\n",
    "</details>\n",
    "\n"
   ]
  },
  {
   "cell_type": "markdown",
   "metadata": {},
   "source": [
    "---\n",
    "**Task 4. Write a function to print even numbers from a list.**"
   ]
  },
  {
   "cell_type": "code",
   "execution_count": 28,
   "metadata": {},
   "outputs": [
    {
     "name": "stdout",
     "output_type": "stream",
     "text": [
      "2\n",
      "4\n",
      "6\n",
      "8\n",
      "10\n"
     ]
    }
   ],
   "source": [
    "listt = [1,2,3,4,5,6,7,8,9,10]\n",
    "for i in range(0,len(listt)):\n",
    "  if listt[i] % 2 == 0:\n",
    "    print(listt[i])"
   ]
  },
  {
   "cell_type": "markdown",
   "metadata": {},
   "source": [
    "### Example solutions Task 4.\n",
    "\n",
    "<details><summary>CLICK ME</summary>\n",
    "<p>\n",
    "\n",
    "```\n",
    "# create an integer list that has 10 numbers 1,2,3,4,5,6,7,8,9,10\n",
    "# check and print all even numbers from the list (use a function)\n",
    "\n",
    "# Example\n",
    "def printEven(list):\n",
    "    for n in list:\n",
    "        if n % 2 == 0:\n",
    "            print (n)\n",
    "\n",
    "mylist = [1,2,3,4,5,6,7,8,9,10]\n",
    "printEven(mylist)\n",
    "    \n",
    "```\n",
    "</p>\n",
    "</details>\n"
   ]
  },
  {
   "cell_type": "markdown",
   "metadata": {},
   "source": [
    "---\n",
    "**Task 5. Write a python program to write the courses list into a file called mycourses.txt and print the content of the file.**"
   ]
  },
  {
   "cell_type": "code",
   "execution_count": 29,
   "metadata": {},
   "outputs": [
    {
     "name": "stdout",
     "output_type": "stream",
     "text": [
      "['Introduction to IoT & Cloud', 'Python Basics for IoT', 'Python Project']\n"
     ]
    }
   ],
   "source": [
    "courses = [\"Introduction to IoT & Cloud\", \"Python Basics for IoT\", \"Python Project\"]\n",
    "\n",
    "file = open(\"mycourses.txt\", \"w\")\n",
    "file.write(str(courses))\n",
    "file.close()\n",
    "file = open(\"mycourses.txt\", \"r+\")\n",
    "print (file.read())\n",
    "file.close()"
   ]
  },
  {
   "cell_type": "markdown",
   "metadata": {},
   "source": [
    "### Example solutions Task 5.\n",
    "\n",
    "<details><summary>CLICK ME</summary>\n",
    "<p>\n",
    "\n",
    "```\n",
    "#use the list below \n",
    "courses = ['Introduction to IoT', 'Basics of Python', 'Python Project']\n",
    "\n",
    "# Example\n",
    "f = open(\"mycourses.txt\", \"w\")\n",
    "f.write(str(courses))\n",
    "f.close()\n",
    "f = open(\"mycourses.txt\", \"r\")\n",
    "print (f.read())\n",
    "f.close()\n",
    "    \n",
    "```\n",
    "</p>\n",
    "</details>\n"
   ]
  },
  {
   "cell_type": "markdown",
   "metadata": {},
   "source": [
    "---\n",
    "**Task 6. Append the file created in no. 5 and add the text \"Here is more text\".**"
   ]
  },
  {
   "cell_type": "code",
   "execution_count": 31,
   "metadata": {},
   "outputs": [
    {
     "name": "stdout",
     "output_type": "stream",
     "text": [
      "['Introduction to IoT & Cloud', 'Python Basics for IoT', 'Python Project']Here is more text\n"
     ]
    }
   ],
   "source": [
    "file = open(\"mycourses.txt\", \"a\")\n",
    "file.write(\"Here is more text\")\n",
    "file.close\n",
    "file = open(\"mycourses.txt\", \"r+\")\n",
    "print (file.read())\n",
    "file.close()"
   ]
  },
  {
   "cell_type": "markdown",
   "metadata": {},
   "source": [
    "### Example solutions Task 6.\n",
    "\n",
    "<details><summary>CLICK ME</summary>\n",
    "<p>\n",
    "\n",
    "```\n",
    "# Example\n",
    "f = open(\"mycourses.txt\", \"a\")\n",
    "f.write(\"Here is more text\")\n",
    "f.close\n",
    "    \n",
    "```\n",
    "</p>\n",
    "</details>\n",
    "\n",
    "\n"
   ]
  },
  {
   "cell_type": "code",
   "execution_count": null,
   "metadata": {},
   "outputs": [],
   "source": []
  }
 ],
 "metadata": {
  "kernelspec": {
   "display_name": "Python 3",
   "language": "python",
   "name": "python3"
  },
  "language_info": {
   "codemirror_mode": {
    "name": "ipython",
    "version": 3
   },
   "file_extension": ".py",
   "mimetype": "text/x-python",
   "name": "python",
   "nbconvert_exporter": "python",
   "pygments_lexer": "ipython3",
   "version": "3.8.8"
  }
 },
 "nbformat": 4,
 "nbformat_minor": 4
}
