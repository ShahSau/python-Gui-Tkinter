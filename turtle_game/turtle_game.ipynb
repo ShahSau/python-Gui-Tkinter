{
 "cells": [
  {
   "cell_type": "markdown",
   "metadata": {},
   "source": [
    "Importing necessary libraries"
   ]
  },
  {
   "cell_type": "code",
   "execution_count": 9,
   "metadata": {},
   "outputs": [],
   "source": [
    "import turtle\n",
    "import math\n",
    "import random"
   ]
  },
  {
   "cell_type": "code",
   "execution_count": 10,
   "metadata": {},
   "outputs": [],
   "source": [
    "#Creating the screen\n",
    "length = 500\n",
    "height = 700\n",
    "turtle.screensize(length, height)\n"
   ]
  },
  {
   "cell_type": "code",
   "execution_count": 11,
   "metadata": {},
   "outputs": [],
   "source": [
    "#number of turtle\n",
    "no_turtles = 7"
   ]
  },
  {
   "cell_type": "code",
   "execution_count": 12,
   "metadata": {},
   "outputs": [],
   "source": [
    "#creating player class\n",
    "class player():\n",
    "     def __init__(self,color, position):\n",
    "        self.position = position\n",
    "        self.color = color\n",
    "        self.tp = turtle.Turtle()\n",
    "        self.tp.color(color)\n",
    "        self.tp.penup()\n",
    "        self.tp.shape('turtle')\n",
    "        self.tp.setheading(90)\n",
    "        self.tp.setpos(position)\n",
    "    \n",
    "    #creating movement\n",
    "     def gooo(self):\n",
    "        ran = random.randrange(10, 20)\n",
    "        self.position = (self.position[0], self.position[1] + ran)\n",
    "        self.tp.pendown()\n",
    "        self.tp.forward(ran)\n",
    " \n",
    "     def reset(self):\n",
    "        self.tp.penup()\n",
    "        self.tp.setpos(self.position)\n"
   ]
  },
  {
   "cell_type": "code",
   "execution_count": 13,
   "metadata": {},
   "outputs": [],
   "source": [
    "#game\n",
    "def game():\n",
    "    List=[]\n",
    "    turtle.clearscreen()\n",
    "    turtle.hideturtle()\n",
    "    colors=['Violet','Indigo','Blue','Green','Yellow','Orange','Red']\n",
    "    start = -(length/2) + 20\n",
    "    for p in range(no_turtles):\n",
    "        newPosition = start + p*(length)//no_turtles\n",
    "        List.append(player(colors[p],(newPosition, -200)))\n",
    "        List[p].tp.showturtle()\n",
    "        \n",
    "    go = True\n",
    "    while go:\n",
    "        for p in List:\n",
    "            p.gooo()\n",
    "            \n",
    "        maxColor = []\n",
    "        maxDist = 0\n",
    "        for p in List:\n",
    "            if p.position[1]> 200 and p.position[1]>maxDist:\n",
    "                maxDist=p.position[1]\n",
    "                maxColor=[]\n",
    "                maxColor.append(p.color)\n",
    "            elif p.position[1]> 200 and p.position[1] == maxDist:\n",
    "                maxDist=p.position[1]\n",
    "                maxColor.append(p.color)\n",
    "            \n",
    "        if len(maxColor)> 0:\n",
    "            go = False\n",
    "            print('Winner is : ')\n",
    "            for winner in maxColor:\n",
    "                print(winner)\n",
    "                \n",
    "\n",
    "        "
   ]
  },
  {
   "cell_type": "code",
   "execution_count": null,
   "metadata": {},
   "outputs": [],
   "source": [
    "#staring game\n",
    "start = input('Would you like to play')\n",
    "if start == 'Yes':\n",
    "    game()\n",
    "elif start == 'yes':\n",
    "    game()\n",
    "elif start== 'True':\n",
    "    game()\n",
    "elif start == 'No':\n",
    "    turtle.bye()\n",
    "\n",
    "while start!= 'No':\n",
    "    print('-----------------------------------')\n",
    "    start = input('Would you like to play')\n",
    "    if start == 'Yes':\n",
    "        game()\n",
    "    elif start == 'yes':\n",
    "        game()\n",
    "    elif start== 'True':\n",
    "        game()\n",
    "    elif start == 'No':\n",
    "        turtle.bye()\n"
   ]
  },
  {
   "cell_type": "code",
   "execution_count": null,
   "metadata": {},
   "outputs": [],
   "source": []
  }
 ],
 "metadata": {
  "kernelspec": {
   "display_name": "Python 3",
   "language": "python",
   "name": "python3"
  },
  "language_info": {
   "codemirror_mode": {
    "name": "ipython",
    "version": 3
   },
   "file_extension": ".py",
   "mimetype": "text/x-python",
   "name": "python",
   "nbconvert_exporter": "python",
   "pygments_lexer": "ipython3",
   "version": "3.7.4"
  }
 },
 "nbformat": 4,
 "nbformat_minor": 4
}
