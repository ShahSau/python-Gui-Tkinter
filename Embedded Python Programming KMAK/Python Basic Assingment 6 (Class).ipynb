{
 "cells": [
  {
   "cell_type": "markdown",
   "metadata": {},
   "source": [
    "# Python Basic - Assingment 6 (Class)"
   ]
  },
  {
   "cell_type": "markdown",
   "metadata": {},
   "source": [
    "## Problem Description\n",
    "\n",
    "The program takes the length and breadth from the user and finds the area of the rectangle using classes."
   ]
  },
  {
   "cell_type": "markdown",
   "metadata": {},
   "source": [
    "## Program Explanation\n",
    "\n",
    "1. A class called cal is created and the __init__() method is used to initialize values of that class.\n",
    "2. Methods for adding, substracting, multiplying, dividing two numbers and returning their respective results is defined.\n",
    "3. The menu is printed and the choice is taken from the user.\n",
    "4. An object for the class is created with the two numbers taken from the user passed as parameters.\n",
    "5. Using the object, the respective method is called according to the choice taken from the user.\n",
    "6. When the choice is 0, the loop is exited.\n",
    "7. The final result is printed."
   ]
  },
  {
   "cell_type": "markdown",
   "metadata": {},
   "source": [
    "## Problem Solution\n",
    "\n",
    "1. Create a class and using a constructor to initialize values of that class.\n",
    "2. Create methods for adding, substracting, multiplying and dividing two numbers and returning the respective results.\n",
    "3. Take the two numbers as inputs and create an object for the class passing the two numbers as parameters to the class.\n",
    "4. Using the object, call the respective function depending on the choice taken from the user.\n",
    "5. Print the final result.\n",
    "6. Exit"
   ]
  },
  {
   "cell_type": "code",
   "execution_count": null,
   "metadata": {},
   "outputs": [],
   "source": [
    "## Make your solutions cell b"
   ]
  },
  {
   "cell_type": "code",
   "execution_count": 6,
   "metadata": {},
   "outputs": [
    {
     "name": "stdin",
     "output_type": "stream",
     "text": [
      "Choose a number:  3\n",
      "Choose another number:  3\n"
     ]
    },
    {
     "name": "stdout",
     "output_type": "stream",
     "text": [
      "\n",
      "For addintion choose 1\n",
      "For substraction choose 2\n",
      "For multiplication choose 3\n",
      "For division choose 4\n",
      "To exit press 0\n"
     ]
    },
    {
     "name": "stdin",
     "output_type": "stream",
     "text": [
      "Your choice:  3\n"
     ]
    },
    {
     "name": "stdout",
     "output_type": "stream",
     "text": [
      "\n",
      "Multiplication of given numbers:  9\n",
      "\n",
      "For addintion choose 1\n",
      "For substraction choose 2\n",
      "For multiplication choose 3\n",
      "For division choose 4\n",
      "To exit press 0\n"
     ]
    },
    {
     "name": "stdin",
     "output_type": "stream",
     "text": [
      "Your choice:  1\n"
     ]
    },
    {
     "name": "stdout",
     "output_type": "stream",
     "text": [
      "\n",
      "Sum of given numbers:  6\n",
      "\n",
      "For addintion choose 1\n",
      "For substraction choose 2\n",
      "For multiplication choose 3\n",
      "For division choose 4\n",
      "To exit press 0\n"
     ]
    },
    {
     "name": "stdin",
     "output_type": "stream",
     "text": [
      "Your choice:  0\n"
     ]
    },
    {
     "name": "stdout",
     "output_type": "stream",
     "text": [
      "\n",
      "Program is terminating\n"
     ]
    }
   ],
   "source": [
    "#creating class\n",
    "class cal():\n",
    "    def __init__(self,a,b):\n",
    "        self.a = a\n",
    "        self.b = b\n",
    "    def add(self):\n",
    "        return self.a + self.b\n",
    "    def substract(self):\n",
    "        return self.a - self.b\n",
    "    def multiplication(self):\n",
    "        return self.a * self.b\n",
    "    def divide(self):\n",
    "        return self.a / self.b\n",
    "#taking input from user\n",
    "a = int(input(\"Choose a number: \"))\n",
    "b = int(input(\"Choose another number: \"))\n",
    "#creating object\n",
    "object_1 = cal(a,b)\n",
    "choice = 100\n",
    "while choice !=0:\n",
    "    print()\n",
    "    print(\"For addintion choose 1\")\n",
    "    print(\"For substraction choose 2\")\n",
    "    print(\"For multiplication choose 3\")\n",
    "    print(\"For division choose 4\")\n",
    "    print(\"To exit press 0\")\n",
    "    choice = int(input(\"Your choice: \"))\n",
    "    print()\n",
    "    if choice == 1:\n",
    "        print(\"Sum of given numbers: \", object_1.add())\n",
    "    elif choice == 2:\n",
    "        print(\"Difference of given numbers: \", object_1.substract())\n",
    "    elif choice == 3:\n",
    "        print(\"Multiplication of given numbers: \", object_1.multiplication())\n",
    "    elif choice == 4:\n",
    "        print(\"Division of given numbers: \", object_1.divide())\n",
    "    elif choice == 0:\n",
    "        print(\"Program is terminating\")\n",
    "    else:\n",
    "        print(\"Please choose a valid number\")\n",
    "\n",
    "\n"
   ]
  },
  {
   "cell_type": "code",
   "execution_count": null,
   "metadata": {},
   "outputs": [],
   "source": []
  },
  {
   "cell_type": "code",
   "execution_count": null,
   "metadata": {},
   "outputs": [],
   "source": []
  },
  {
   "cell_type": "markdown",
   "metadata": {},
   "source": [
    "### Example solutions Assingment 6.\n",
    "\n",
    "<details><summary>CLICK ME</summary>\n",
    "<p>\n",
    "\n",
    "```\n",
    "class cal():\n",
    "    def __init__(self,a,b):\n",
    "        self.a=a\n",
    "        self.b=b\n",
    "    def add(self):\n",
    "        return self.a+self.b\n",
    "    def mul(self):\n",
    "        return self.a*self.b\n",
    "    def div(self):\n",
    "        return self.a/self.b\n",
    "    def sub(self):\n",
    "        return self.a-self.b\n",
    "a=int(input(\"Enter first number: \"))\n",
    "b=int(input(\"Enter second number: \"))\n",
    "obj=cal(a,b)\n",
    "choice=1\n",
    "while choice!=0:\n",
    "    print(\"0. Exit\")\n",
    "    print(\"1. Add\")\n",
    "    print(\"2. Subtraction\")\n",
    "    print(\"3. Multiplication\")\n",
    "    print(\"4. Division\")\n",
    "    choice=int(input(\"Enter choice: \"))\n",
    "    if choice==1:\n",
    "        print(\"Result: \",obj.add())\n",
    "    elif choice==2:\n",
    "        print(\"Result: \",obj.sub())\n",
    "    elif choice==3:\n",
    "        print(\"Result: \",obj.mul())\n",
    "    elif choice==4:\n",
    "        print(\"Result: \",round(obj.div(),2))\n",
    "    elif choice==0:\n",
    "        print(\"Exiting!\")\n",
    "    else:\n",
    "        print(\"Invalid choice!!\")\n",
    " \n",
    " \n",
    "print()\n",
    "\n",
    "\n",
    "```\n",
    "\n",
    "</p>\n",
    "</details>"
   ]
  },
  {
   "cell_type": "code",
   "execution_count": null,
   "metadata": {},
   "outputs": [],
   "source": []
  }
 ],
 "metadata": {
  "kernelspec": {
   "display_name": "Python 3",
   "language": "python",
   "name": "python3"
  },
  "language_info": {
   "codemirror_mode": {
    "name": "ipython",
    "version": 3
   },
   "file_extension": ".py",
   "mimetype": "text/x-python",
   "name": "python",
   "nbconvert_exporter": "python",
   "pygments_lexer": "ipython3",
   "version": "3.8.8"
  }
 },
 "nbformat": 4,
 "nbformat_minor": 4
}
